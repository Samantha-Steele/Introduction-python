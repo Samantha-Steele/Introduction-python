{
  "nbformat": 4,
  "nbformat_minor": 0,
  "metadata": {
    "colab": {
      "name": "Week 12 Assignment.ipynb",
      "provenance": [],
      "authorship_tag": "ABX9TyOQJuX19UrM8gaX2mQptoTj",
      "include_colab_link": true
    },
    "kernelspec": {
      "name": "python3",
      "display_name": "Python 3"
    }
  },
  "cells": [
    {
      "cell_type": "markdown",
      "metadata": {
        "id": "view-in-github",
        "colab_type": "text"
      },
      "source": [
        "<a href=\"https://colab.research.google.com/github/Samantha-Steele/Introduction-python/blob/master/Week_12_Assignment.ipynb\" target=\"_parent\"><img src=\"https://colab.research.google.com/assets/colab-badge.svg\" alt=\"Open In Colab\"/></a>"
      ]
    },
    {
      "cell_type": "code",
      "metadata": {
        "id": "bROt_pdDboaA",
        "outputId": "2dd32d8a-4392-4e97-df9d-3a6a52d90481",
        "colab": {
          "base_uri": "https://localhost:8080/"
        }
      },
      "source": [
        "#1\n",
        "import urllib.request\n",
        "\n",
        "file_name = \"https://raw.githubusercontent.com/mlepinski/Python-Worksheets/master/states.csv\"\n",
        "my_file = urllib.request.urlopen(file_name)\n",
        "\n",
        "long_string = my_file.read()\n",
        "long_string = long_string.decode(\"utf-8\")\n",
        "\n",
        "no_line_breaks = long_string.replace(\"\\n\", \" \")\n",
        "no_commas = no_line_breaks.replace(\",\", \" \")\n",
        "lower_case = no_commas.lower()\n",
        "\n",
        "list_of_words = lower_case.split()\n",
        "\n",
        "import pandas\n",
        "\n",
        "state_data = pandas.read_csv(file_name)\n",
        "\n",
        "popul = (state_data[\"Pop\"])\n",
        "\n",
        "pop_num = len(popul) \n",
        "popul.sort_values() \n",
        "  \n",
        "if pop_num % 2 == 0: \n",
        "    median1 = popul[pop_num//2] \n",
        "    median2 = popul[pop_num//2 - 1] \n",
        "    median = (median1 + median2)/2\n",
        "else: \n",
        "    median = popul[pop_num//2] \n",
        "print(\"Median is: \" + str(median)) "
      ],
      "execution_count": 109,
      "outputs": [
        {
          "output_type": "stream",
          "text": [
            "Median is: 5117073\n"
          ],
          "name": "stdout"
        }
      ]
    },
    {
      "cell_type": "code",
      "metadata": {
        "id": "ftB5KHmNbKXq",
        "outputId": "b4979faf-4bc2-4f2f-f261-cdb318a46068",
        "colab": {
          "base_uri": "https://localhost:8080/"
        }
      },
      "source": [
        "#2\n",
        "import urllib.request\n",
        "\n",
        "file_name = \"https://raw.githubusercontent.com/mlepinski/Python-Worksheets/master/states.csv\"\n",
        "my_file = urllib.request.urlopen(file_name)\n",
        "\n",
        "long_string = my_file.read()\n",
        "long_string = long_string.decode(\"utf-8\")\n",
        "\n",
        "no_line_breaks = long_string.replace(\"\\n\", \" \")\n",
        "no_commas = no_line_breaks.replace(\",\", \" \")\n",
        "lower_case = no_commas.lower()\n",
        "\n",
        "list_of_words = lower_case.split()\n",
        "\n",
        "letter_count = 0 \n",
        "for name in state_data[\"Name\"]:\n",
        "  if name[0] == \"M\":\n",
        "    letter_count = letter_count + 1\n",
        "\n",
        "\n",
        "print(\"This letter appears\" , letter_count, \"times in the file\")"
      ],
      "execution_count": 110,
      "outputs": [
        {
          "output_type": "stream",
          "text": [
            "This letter appears 8 times in the file\n"
          ],
          "name": "stdout"
        }
      ]
    },
    {
      "cell_type": "code",
      "metadata": {
        "id": "ClcNek9Yf9Di",
        "outputId": "83dac97d-f070-4598-ca15-84c0af60fc2c",
        "colab": {
          "base_uri": "https://localhost:8080/",
          "height": 195
        }
      },
      "source": [
        "#3\n",
        "import pandas\n",
        "\n",
        "file_name = \"https://raw.githubusercontent.com/mlepinski/Python-Worksheets/master/states.csv\"\n",
        "state_data = pandas.read_csv(file_name)\n",
        "\n",
        "state_data[\"Population Density\"] = state_data[\"Pop\"] / state_data[\"Area\"]\n",
        "\n",
        "state_data.head()"
      ],
      "execution_count": 111,
      "outputs": [
        {
          "output_type": "execute_result",
          "data": {
            "text/html": [
              "<div>\n",
              "<style scoped>\n",
              "    .dataframe tbody tr th:only-of-type {\n",
              "        vertical-align: middle;\n",
              "    }\n",
              "\n",
              "    .dataframe tbody tr th {\n",
              "        vertical-align: top;\n",
              "    }\n",
              "\n",
              "    .dataframe thead th {\n",
              "        text-align: right;\n",
              "    }\n",
              "</style>\n",
              "<table border=\"1\" class=\"dataframe\">\n",
              "  <thead>\n",
              "    <tr style=\"text-align: right;\">\n",
              "      <th></th>\n",
              "      <th>Name</th>\n",
              "      <th>State</th>\n",
              "      <th>Area</th>\n",
              "      <th>Pop</th>\n",
              "      <th>Population Density</th>\n",
              "    </tr>\n",
              "  </thead>\n",
              "  <tbody>\n",
              "    <tr>\n",
              "      <th>0</th>\n",
              "      <td>Alabama</td>\n",
              "      <td>AL</td>\n",
              "      <td>52423</td>\n",
              "      <td>4040587</td>\n",
              "      <td>77.076608</td>\n",
              "    </tr>\n",
              "    <tr>\n",
              "      <th>1</th>\n",
              "      <td>Alaska</td>\n",
              "      <td>AK</td>\n",
              "      <td>656424</td>\n",
              "      <td>550043</td>\n",
              "      <td>0.837939</td>\n",
              "    </tr>\n",
              "    <tr>\n",
              "      <th>2</th>\n",
              "      <td>Arizona</td>\n",
              "      <td>AZ</td>\n",
              "      <td>114006</td>\n",
              "      <td>3665228</td>\n",
              "      <td>32.149431</td>\n",
              "    </tr>\n",
              "    <tr>\n",
              "      <th>3</th>\n",
              "      <td>Arkansas</td>\n",
              "      <td>AR</td>\n",
              "      <td>53182</td>\n",
              "      <td>2350725</td>\n",
              "      <td>44.201516</td>\n",
              "    </tr>\n",
              "    <tr>\n",
              "      <th>4</th>\n",
              "      <td>California</td>\n",
              "      <td>CA</td>\n",
              "      <td>163707</td>\n",
              "      <td>29769021</td>\n",
              "      <td>181.843299</td>\n",
              "    </tr>\n",
              "  </tbody>\n",
              "</table>\n",
              "</div>"
            ],
            "text/plain": [
              "         Name State    Area       Pop  Population Density\n",
              "0     Alabama    AL   52423   4040587           77.076608\n",
              "1      Alaska    AK  656424    550043            0.837939\n",
              "2     Arizona    AZ  114006   3665228           32.149431\n",
              "3    Arkansas    AR   53182   2350725           44.201516\n",
              "4  California    CA  163707  29769021          181.843299"
            ]
          },
          "metadata": {
            "tags": []
          },
          "execution_count": 111
        }
      ]
    },
    {
      "cell_type": "code",
      "metadata": {
        "id": "Iu_AzGBSlDPP",
        "outputId": "ffb315db-8ec6-4d1d-cef0-4afb5640af4f",
        "colab": {
          "base_uri": "https://localhost:8080/"
        }
      },
      "source": [
        "#4\n",
        "import pandas\n",
        "\n",
        "file_name = \"https://raw.githubusercontent.com/mlepinski/Python-Worksheets/master/states.csv\"\n",
        "state_data = pandas.read_csv(file_name)\n",
        "\n",
        "state_data[\"Population Density\"] = state_data[\"Pop\"] / state_data[\"Area\"]\n",
        "pop_den = \"Population Density\"\n",
        "\n",
        "state_data.head()\n",
        "\n",
        "largest_pop_den = 0\n",
        "\n",
        "for pop_den in state_data[\"Population Density\"]:\n",
        "  if pop_den > largest_pop_den:\n",
        "    largest_pop_den = pop_den\n",
        "print(largest_pop_den)\n",
        "\n",
        "smallest_pop_den = 1000000000\n",
        "\n",
        "for pop_den in state_data[\"Population Density\"]:\n",
        "  #if pop_den == \"Population Density\":\n",
        "    #smallest_pop_den.remove()\n",
        "  if pop_den < smallest_pop_den:\n",
        "    smallest_pop_den = pop_den\n",
        "print(smallest_pop_den)\n",
        "\n",
        "med_pop_den = (state_data[\"Population Density\"])\n",
        "\n",
        "pop_den_num = len(med_pop_den) \n",
        "med_pop_den.sort_values() \n",
        "  \n",
        "if pop_num % 2 == 0: \n",
        "    median1 = med_pop_den[pop_den_num//2] \n",
        "    median2 = med_pop_den[pop_den_num//2 - 1] \n",
        "    median = (median1 + median2)/2\n",
        "else: \n",
        "    median = med_pop_den[pop_den_num//2] \n",
        "print(str(median)) "
      ],
      "execution_count": 112,
      "outputs": [
        {
          "output_type": "stream",
          "text": [
            "8925.0\n",
            "0.8379385884733038\n",
            "73.40620292932046\n"
          ],
          "name": "stdout"
        }
      ]
    }
  ]
}