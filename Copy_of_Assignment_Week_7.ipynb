{
  "nbformat": 4,
  "nbformat_minor": 0,
  "metadata": {
    "colab": {
      "name": "Copy of Assignment Week 7.ipynb",
      "provenance": [],
      "include_colab_link": true
    },
    "kernelspec": {
      "name": "python3",
      "display_name": "Python 3"
    }
  },
  "cells": [
    {
      "cell_type": "markdown",
      "metadata": {
        "id": "view-in-github",
        "colab_type": "text"
      },
      "source": [
        "<a href=\"https://colab.research.google.com/github/Samantha-Steele/Introduction-python/blob/master/Copy_of_Assignment_Week_7.ipynb\" target=\"_parent\"><img src=\"https://colab.research.google.com/assets/colab-badge.svg\" alt=\"Open In Colab\"/></a>"
      ]
    },
    {
      "cell_type": "markdown",
      "metadata": {
        "id": "ssVL6QEUKk_L"
      },
      "source": [
        "# WEEK 7 ASSIGNMENT : Working with Strings\n",
        "\n",
        "----------------\n",
        "\n",
        "You are encouraged to create a new blank workbook for your solutions. You should then save your solutions into GitHub.\n",
        "\n",
        "**0)** Write a program that prints the following by using the VARIABLE.upper() and VARIABLE.lower() commands:\n",
        "\"Hello World\"\n",
        "\"HELLO WORLD\"\n",
        "\"hello world\"\n",
        "\n",
        "**1)** Define a python function, hasVowels(str), that takes in a string as input to the function and checks to see if the string contains any vowels. Your function should return True if the string has a vowel and False if the string does not have a vowel. \n",
        "\n",
        "If your **hasVowels** function is written correctly then the following test code should work:\n",
        " "
      ]
    },
    {
      "cell_type": "markdown",
      "metadata": {
        "id": "wMs6Ap_qMJDo"
      },
      "source": [
        "**2)** Write a Python program that makes use of your existing **hasVowels** function to do the following task. Repeatedly ask the user to enter a word with vowels from the keyboard, you should stop when the user correctly enters a word with vowels. \n",
        "\n",
        "For example, if the user first types \"fhbjk\" and then types \"mbbccv\" you should keep asking the user to try again until they finally successfully enter something that has at least one vowel."
      ]
    },
    {
      "cell_type": "markdown",
      "metadata": {
        "id": "3zKsF4QiMxTu"
      },
      "source": [
        "**3)** Define a Python function called, countVowels(str), that takes in a string as input to the function and returns the number of vowels in the string. \n",
        "\n",
        "You should have a count variable inside the function and then loop through the letters in the string and check each one to see if it is a vowel. \n",
        "\n",
        "If your **countVowels** function is written correctly then the following test code should work.\n",
        "\n"
      ]
    },
    {
      "cell_type": "markdown",
      "metadata": {
        "id": "6JyIDGJyNmJF"
      },
      "source": [
        "**4)** Write a Python program that starts with an empty list and then asks the user to enter a word. The program should add the word to the list and then ask for a new word (and add the new word to the list) and continue like this until the user enters \"stop\" or \"STOP\" or \"STop\" or any variation like \"sTOP\" or \"stoP\".\n",
        "\n",
        "Note: We did something similar to this last week, you might want to look at the Week 6 assignment or worksheet for inspiration"
      ]
    },
    {
      "cell_type": "markdown",
      "metadata": {
        "id": "QmWEmSA9OXtN"
      },
      "source": [
        "**5)** Use your **countVowels** funciton from problem 3 and your list of words from problem 4 together to figure out the total number of vowels in all of the words that the user enters. \n",
        "\n",
        "Note: Ideally, you should not count the 1 \"o\" in the \"stop\" that they typed at the end"
      ]
    },
    {
      "cell_type": "code",
      "metadata": {
        "id": "4pxolUpQh9DN",
        "outputId": "6337cf80-81a7-4fcf-e817-181c6ffdd1cf",
        "colab": {
          "base_uri": "https://localhost:8080/",
          "height": 598
        }
      },
      "source": [
        "#0\n",
        "HW1 = \"Hello World\"\n",
        "print(HW1)\n",
        "HW1 = HW1.upper()\n",
        "print(HW1)\n",
        "HW1 = HW1.lower()\n",
        "print(HW1)\n",
        "\n",
        "#1\n",
        "def hasVowels(wrd):\n",
        "  wrd = wrd.upper()\n",
        "  if \"A\" in wrd:\n",
        "    print(\"True\")\n",
        "  elif \"E\" in wrd:\n",
        "    print(\"True\")\n",
        "  elif \"I\" in wrd:\n",
        "    print(\"True\")\n",
        "  elif \"O\" in wrd:\n",
        "    print(\"True\")\n",
        "  elif \"U\" in wrd:\n",
        "    print(\"True\")\n",
        "  else:\n",
        "    print(\"False\")\n",
        "wrd = input(\"Enter a word: \")\n",
        "hasVowels(wrd)\n",
        "\n",
        "#2\n",
        "def hasVowels(wrd):\n",
        "  wrd = input(\"Enter a word: \")\n",
        "  wrd = wrd.upper()\n",
        "  if \"A\" in wrd:\n",
        "    print(\"True\")\n",
        "  elif \"E\" in wrd:\n",
        "    print(\"True\")\n",
        "  elif \"I\" in wrd:\n",
        "    print(\"True\")\n",
        "  elif \"O\" in wrd:\n",
        "    print(\"True\")\n",
        "  elif \"U\" in wrd:\n",
        "    print(\"True\")\n",
        "  else:\n",
        "    hasVowels(wrd)\n",
        "wrd = wrd\n",
        "hasVowels(wrd)\n",
        "\n",
        "#3\n",
        "def countVowels(str):\n",
        "  str = input(\"Enter a word: \")\n",
        "  str = str.lower()\n",
        "  count = 0\n",
        "  if \"a\" in str:\n",
        "    count = count + 1\n",
        "  if \"e\" in str:\n",
        "    count = count + 1\n",
        "  if \"i\" in str:\n",
        "    count = count + 1\n",
        "  if \"o\" in str:\n",
        "    count = count + 1\n",
        "  if \"u\" in str:\n",
        "    count = count + 1\n",
        "  print(count)\n",
        "countVowels(str)\n",
        "\n",
        "#4\n",
        "Word4 = []\n",
        "\n",
        "Word4_entered = input(\"Enter a word, or type stop: \")\n",
        "Word4_entered = Word4_entered.lower()\n",
        "while not Word4_entered == \"stop\":\n",
        "  Word4.append(Word4_entered)\n",
        "  Word4_entered = input(\"Enter a word, or type stop: \")\n",
        "\n",
        "print(\"The list of words contains: \", Word4)\n",
        "\n",
        "5\n",
        "Word4 = []\n",
        "count5 = 0\n",
        "\n",
        "\n",
        "Word4_entered = input(\"Enter a word, or type stop: \")\n",
        "Word4_entered = Word4_entered.lower()\n",
        "while not Word4_entered == \"stop\":\n",
        "  Word4.append(Word4_entered)\n",
        "  Word4_entered = input(\"Enter a word, or type stop: \")\n",
        "\n",
        "for Word4_entered in word4:\n",
        "  count5 = count5 + countVowels(Word4_entered) \n",
        "  \n",
        "\n",
        "print(\"The list of words contains: \", Word4)\n",
        "print(\"The list of words contains\", count5 , \"Vowels\")"
      ],
      "execution_count": 45,
      "outputs": [
        {
          "output_type": "stream",
          "text": [
            "Hello World\n",
            "HELLO WORLD\n",
            "hello world\n",
            "Enter a word: hello\n",
            "True\n",
            "Enter a word: hello\n",
            "True\n",
            "Enter a word: hello\n",
            "2\n",
            "Enter a word, or type stop: hello\n",
            "Enter a word, or type stop: world\n",
            "Enter a word, or type stop: ready\n",
            "Enter a word, or type stop: set\n",
            "Enter a word, or type stop: go\n",
            "Enter a word, or type stop: stop\n",
            "The list of words contains:  ['hello', 'world', 'ready', 'set', 'go']\n",
            "Enter a word, or type stop: hello\n",
            "Enter a word, or type stop: world\n",
            "Enter a word, or type stop: ready\n",
            "Enter a word, or type stop: set\n",
            "Enter a word, or type stop: go\n",
            "Enter a word, or type stop: stop\n"
          ],
          "name": "stdout"
        },
        {
          "output_type": "error",
          "ename": "NameError",
          "evalue": "ignored",
          "traceback": [
            "\u001b[0;31m---------------------------------------------------------------------------\u001b[0m",
            "\u001b[0;31mNameError\u001b[0m                                 Traceback (most recent call last)",
            "\u001b[0;32m<ipython-input-45-971d41228b44>\u001b[0m in \u001b[0;36m<module>\u001b[0;34m()\u001b[0m\n\u001b[1;32m     84\u001b[0m   \u001b[0mWord4_entered\u001b[0m \u001b[0;34m=\u001b[0m \u001b[0minput\u001b[0m\u001b[0;34m(\u001b[0m\u001b[0;34m\"Enter a word, or type stop: \"\u001b[0m\u001b[0;34m)\u001b[0m\u001b[0;34m\u001b[0m\u001b[0;34m\u001b[0m\u001b[0m\n\u001b[1;32m     85\u001b[0m \u001b[0;34m\u001b[0m\u001b[0m\n\u001b[0;32m---> 86\u001b[0;31m \u001b[0;32mfor\u001b[0m \u001b[0mWord4_entered\u001b[0m \u001b[0;32min\u001b[0m \u001b[0mword4\u001b[0m\u001b[0;34m:\u001b[0m\u001b[0;34m\u001b[0m\u001b[0;34m\u001b[0m\u001b[0m\n\u001b[0m\u001b[1;32m     87\u001b[0m   \u001b[0mcount5\u001b[0m \u001b[0;34m=\u001b[0m \u001b[0mcount5\u001b[0m \u001b[0;34m+\u001b[0m \u001b[0mcountVowels\u001b[0m\u001b[0;34m(\u001b[0m\u001b[0mWord4_entered\u001b[0m\u001b[0;34m)\u001b[0m\u001b[0;34m\u001b[0m\u001b[0;34m\u001b[0m\u001b[0m\n\u001b[1;32m     88\u001b[0m \u001b[0;34m\u001b[0m\u001b[0m\n",
            "\u001b[0;31mNameError\u001b[0m: name 'word4' is not defined"
          ]
        }
      ]
    }
  ]
}