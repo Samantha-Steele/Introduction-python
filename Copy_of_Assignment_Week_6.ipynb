{
  "nbformat": 4,
  "nbformat_minor": 0,
  "metadata": {
    "colab": {
      "name": "Copy of Assignment Week 6.ipynb",
      "provenance": [],
      "include_colab_link": true
    },
    "kernelspec": {
      "name": "python3",
      "display_name": "Python 3"
    }
  },
  "cells": [
    {
      "cell_type": "markdown",
      "metadata": {
        "id": "view-in-github",
        "colab_type": "text"
      },
      "source": [
        "<a href=\"https://colab.research.google.com/github/Samantha-Steele/Introduction-python/blob/master/Copy_of_Assignment_Week_6.ipynb\" target=\"_parent\"><img src=\"https://colab.research.google.com/assets/colab-badge.svg\" alt=\"Open In Colab\"/></a>"
      ]
    },
    {
      "cell_type": "markdown",
      "metadata": {
        "id": "OmbYt8lDcUhp"
      },
      "source": [
        "# WEEK 6 ASSIGNMENT : Introduction to Lists\n",
        "\n",
        "----------------\n",
        "\n",
        "Due to the exam, the assignment this week is a bit shorter than ussual. \n",
        "\n",
        "You are encouraged to create a new blank workbook for your solutions. You should then save your solutions into GitHub.\n",
        "\n",
        "**0)** Create a list that contains \"Hello\" and \"World\". Write a program that prints out this list. \n",
        "\n",
        "**1)** Create a program that starts with an empty list and then uses a while loop to repeatedly ask the user to enter the name of a food. The program should add each food to the list. The program should stop when the user enters \"stop\".\n",
        "\n",
        "Note: There is an example similar to this in the worksheet.\n",
        "\n",
        "**2)** Use the list that you created in Problem 2. Write additional Python instructions that ask the user to enter a food to delete from the list. You should then delete the requested food from the list and print the list.\n",
        "\n",
        "**3)** Use the list that you created in Problem 2. Write a loop that goes through every element of the list checks whether the food is \"olives\" (or \"olive\") and prints out the food name provided that it is not \"olives\". (I despise \"olives\", wouldn't want to print out that stuff!)\n",
        "\n",
        "To test out your program, you may need to re-run the code from Problem 2 to create a list that contains \"olives\" so you can verify that your code for Problem 4 correctly omits \"olives\" when printing the list.  \n"
      ]
    },
    {
      "cell_type": "code",
      "metadata": {
        "id": "64mZNvJXfj-Z",
        "outputId": "757801f9-07b3-46b7-fee5-ff6960e8762b",
        "colab": {
          "base_uri": "https://localhost:8080/",
          "height": 185
        }
      },
      "source": [
        "#0\n",
        "Hello_World = [\"Hello\", \"World\"]\n",
        "print(Hello_World)\n",
        "\n",
        "#1\n",
        "Food = []\n",
        "\n",
        "Food_entered = input(\"Enter a food: \")\n",
        "\n",
        "while not Food_entered == \"stop\":\n",
        "  Food.append(Food_entered)\n",
        "  Food_entered = input(\"Enter a food: \")\n",
        "\n",
        "print(\"The list of foods contains: \", Food)\n",
        "\n",
        "#2\n",
        "Food.remove(input(\"Enter a food from the list to be removed: \"))\n",
        "print(\"The new list of foods contains: \", Food)\n",
        "\n",
        "#3\n",
        "if \"olives\" in Food:\n",
        "  Food.remove(\"olives\")\n",
        "  print(\"The revised list of foods contains: \", Food )\n",
        "else:\n",
        "  print(\"The final list of foods contains: \", Food)\n"
      ],
      "execution_count": 29,
      "outputs": [
        {
          "output_type": "stream",
          "text": [
            "['Hello', 'World']\n",
            "Enter a food: apple\n",
            "Enter a food: banana\n",
            "Enter a food: berry\n",
            "Enter a food: olives\n",
            "Enter a food: stop\n",
            "The list of foods contains:  ['apple', 'banana', 'berry', 'olives']\n",
            "Enter a food from the list to be removed: apple\n",
            "The new list of foods contains:  ['banana', 'berry', 'olives']\n",
            "The revised list of foods contains:  ['banana', 'berry']\n"
          ],
          "name": "stdout"
        }
      ]
    }
  ]
}